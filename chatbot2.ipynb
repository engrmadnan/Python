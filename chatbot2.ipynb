{
  "nbformat": 4,
  "nbformat_minor": 0,
  "metadata": {
    "colab": {
      "provenance": [],
      "authorship_tag": "ABX9TyMdAPJECncUjXBqMEWsY9J7",
      "include_colab_link": true
    },
    "kernelspec": {
      "name": "python3",
      "display_name": "Python 3"
    },
    "language_info": {
      "name": "python"
    }
  },
  "cells": [
    {
      "cell_type": "markdown",
      "metadata": {
        "id": "view-in-github",
        "colab_type": "text"
      },
      "source": [
        "<a href=\"https://colab.research.google.com/github/engrmadnan/Python/blob/main/chatbot2.ipynb\" target=\"_parent\"><img src=\"https://colab.research.google.com/assets/colab-badge.svg\" alt=\"Open In Colab\"/></a>"
      ]
    },
    {
      "cell_type": "code",
      "execution_count": 37,
      "metadata": {
        "colab": {
          "base_uri": "https://localhost:8080/"
        },
        "id": "6IewvQLDpJ-x",
        "outputId": "65072f40-42be-4811-c900-d9fded87bafc"
      },
      "outputs": [
        {
          "output_type": "stream",
          "name": "stderr",
          "text": [
            "[nltk_data] Downloading package punkt to /root/nltk_data...\n",
            "[nltk_data]   Package punkt is already up-to-date!\n"
          ]
        },
        {
          "output_type": "execute_result",
          "data": {
            "text/plain": [
              "True"
            ]
          },
          "metadata": {},
          "execution_count": 37
        }
      ],
      "source": [
        "import nltk\n",
        "nltk.download('punkt')"
      ]
    },
    {
      "cell_type": "code",
      "source": [
        "from nltk.tokenize import word_tokenize\n",
        "text=\"tata\""
      ],
      "metadata": {
        "id": "oRS69xAupZdM"
      },
      "execution_count": 38,
      "outputs": []
    },
    {
      "cell_type": "code",
      "source": [
        "tokens=word_tokenize(text)"
      ],
      "metadata": {
        "id": "zxOpQObhqZ5N"
      },
      "execution_count": 39,
      "outputs": []
    },
    {
      "cell_type": "code",
      "source": [
        "intents = {\n",
        "    'greeting':['salam', 'hello', 'hey', 'goodmorning', 'oe', 'bhai', 'bhaya'],\n",
        "    'goodbye':['bye', 'tata', 'goodbye', 'seeyou'],\n",
        "    'question': ['kuch puchna', 'i want to ask','question']\n",
        "}\n",
        "\n",
        "responses = {\n",
        "    'greeting' : ['Aiye tashreef laiye','Tum phir agaye'],\n",
        "    'goodbye' : ['shakal mat dikhaiye'],\n",
        "    'question': ['ji puchiye', 'you may ask anything', 'you may ask question']\n",
        "}"
      ],
      "metadata": {
        "id": "xypLAyQNqcqN"
      },
      "execution_count": 40,
      "outputs": []
    },
    {
      "cell_type": "code",
      "source": [],
      "metadata": {
        "id": "zWZo7peWsa7J"
      },
      "execution_count": null,
      "outputs": []
    },
    {
      "cell_type": "code",
      "source": [
        "training_data = []\n",
        "for intent, examples in intents.items():\n",
        "  for example in examples:\n",
        "\n",
        "    training_data.append((example,intent))"
      ],
      "metadata": {
        "id": "aTBi-goeqcam"
      },
      "execution_count": 41,
      "outputs": []
    },
    {
      "cell_type": "code",
      "source": [
        "from nltk.classify import NaiveBayesClassifier\n",
        "from nltk.classify import accuracy\n",
        "\n",
        "def extract_features(text):\n",
        "  input_tokens = word_tokenize(text.lower())\n",
        "  return {word: word in input_tokens for word in input_tokens}\n",
        "\n",
        "training_features = [(extract_features(text),intent) for (text,intent) in training_data]\n",
        "classifier = NaiveBayesClassifier.train(training_features)\n",
        "print (\"Classifier Accuracy\", accuracy(classifier, training_features))"
      ],
      "metadata": {
        "colab": {
          "base_uri": "https://localhost:8080/"
        },
        "id": "hm72ro0YqcNh",
        "outputId": "5367f909-28a0-4b6f-b55f-e08cef9ea664"
      },
      "execution_count": 42,
      "outputs": [
        {
          "output_type": "stream",
          "name": "stdout",
          "text": [
            "Classifier Accuracy 1.0\n"
          ]
        }
      ]
    },
    {
      "cell_type": "code",
      "source": [
        "import random\n",
        "def get_bot_response(user_input):\n",
        "  #print('coming')\n",
        "\n",
        "  features=extract_features(user_input)\n",
        "  intent = classifier.classify(features)\n",
        "  possible_respose = responses.get(intent,['nahi smjha ma'])\n",
        "  return random.choice(possible_respose)\n",
        "\n",
        " # return responses.get(intent)"
      ],
      "metadata": {
        "id": "ecKwZASAqcCC"
      },
      "execution_count": 45,
      "outputs": []
    },
    {
      "cell_type": "code",
      "source": [
        "while True:\n",
        "  user_input = input(\"You : \")\n",
        "  if user_input.lower() == 'exit':\n",
        "    break\n",
        "  bot_response = get_bot_response(user_input)\n",
        "  print(\"Bots : \", bot_response)"
      ],
      "metadata": {
        "colab": {
          "base_uri": "https://localhost:8080/"
        },
        "id": "4dDC9vX-qbrQ",
        "outputId": "2dac66e5-b357-4d32-d2c5-7f436800f536"
      },
      "execution_count": null,
      "outputs": [
        {
          "output_type": "stream",
          "name": "stdout",
          "text": [
            "You : hi\n",
            "Bots :  Tum phir agaye\n",
            "You : salam\n",
            "Bots :  Tum phir agaye\n",
            "You : hello\n",
            "Bots :  Tum phir agaye\n",
            "You : hi\n",
            "Bots :  Tum phir agaye\n",
            "You : hi\n",
            "Bots :  Aiye tashreef laiye\n",
            "You : i have a question\n",
            "Bots :  you may ask question\n",
            "You : i have a question\n",
            "Bots :  you may ask question\n",
            "You : i have a question\n",
            "Bots :  you may ask question\n",
            "You : i have a question\n",
            "Bots :  you may ask anything\n",
            "You : hdk\n",
            "Bots :  Aiye tashreef laiye\n",
            "You : y\n",
            "Bots :  Aiye tashreef laiye\n",
            "You : question\n",
            "Bots :  you may ask question\n"
          ]
        }
      ]
    }
  ]
}