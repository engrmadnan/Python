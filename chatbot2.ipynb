{
  "nbformat": 4,
  "nbformat_minor": 0,
  "metadata": {
    "colab": {
      "provenance": [],
      "authorship_tag": "ABX9TyPyD7mCO7u5SVv2Vba8SE6w",
      "include_colab_link": true
    },
    "kernelspec": {
      "name": "python3",
      "display_name": "Python 3"
    },
    "language_info": {
      "name": "python"
    }
  },
  "cells": [
    {
      "cell_type": "markdown",
      "metadata": {
        "id": "view-in-github",
        "colab_type": "text"
      },
      "source": [
        "<a href=\"https://colab.research.google.com/github/engrmadnan/Python/blob/main/chatbot2.ipynb\" target=\"_parent\"><img src=\"https://colab.research.google.com/assets/colab-badge.svg\" alt=\"Open In Colab\"/></a>"
      ]
    },
    {
      "cell_type": "code",
      "execution_count": 5,
      "metadata": {
        "colab": {
          "base_uri": "https://localhost:8080/"
        },
        "id": "6IewvQLDpJ-x",
        "outputId": "2be52bc3-c36f-4f7e-f21f-805dd40e127c"
      },
      "outputs": [
        {
          "output_type": "stream",
          "name": "stderr",
          "text": [
            "[nltk_data] Downloading package punkt to /root/nltk_data...\n",
            "[nltk_data]   Package punkt is already up-to-date!\n"
          ]
        },
        {
          "output_type": "execute_result",
          "data": {
            "text/plain": [
              "True"
            ]
          },
          "metadata": {},
          "execution_count": 5
        }
      ],
      "source": [
        "import nltk\n",
        "nltk.download('punkt')"
      ]
    },
    {
      "cell_type": "code",
      "source": [
        "from nltk.tokenize import word_tokenize\n",
        "text=\"tata\""
      ],
      "metadata": {
        "id": "oRS69xAupZdM"
      },
      "execution_count": 6,
      "outputs": []
    },
    {
      "cell_type": "code",
      "source": [
        "tokens=word_tokenize(text)"
      ],
      "metadata": {
        "id": "zxOpQObhqZ5N"
      },
      "execution_count": 7,
      "outputs": []
    },
    {
      "cell_type": "code",
      "source": [
        "intents = {\n",
        "    'greeting':['salam', 'hello', 'hey', 'goodmorning', 'oe', 'bhai', 'bhaya'],\n",
        "    'goodbye':['bye', 'tata', 'goodbye', 'seeyou']\n",
        "}\n",
        "\n",
        "responses = {\n",
        "    'greeting' : ['Aiye tashreef laiye','Tum phir agaye'],\n",
        "    'goodbye' : ['shakal mat dikhaiye'],\n",
        "}"
      ],
      "metadata": {
        "id": "xypLAyQNqcqN"
      },
      "execution_count": 8,
      "outputs": []
    },
    {
      "cell_type": "code",
      "source": [],
      "metadata": {
        "id": "zWZo7peWsa7J"
      },
      "execution_count": null,
      "outputs": []
    },
    {
      "cell_type": "code",
      "source": [
        "training_data = []\n",
        "for intent, examples in intents.items():\n",
        "  for example in examples:\n",
        "\n",
        "    training_data.append((example,intent))"
      ],
      "metadata": {
        "id": "aTBi-goeqcam"
      },
      "execution_count": 9,
      "outputs": []
    },
    {
      "cell_type": "code",
      "source": [
        "from nltk.classify import NaiveBayesClassifier\n",
        "from nltk.classify import accuracy\n",
        "\n",
        "def extract_features(text):\n",
        "  input_tokens = word_tokenize(text.lower())\n",
        "  return {word: word in input_tokens for word in input_tokens}\n",
        "\n",
        "training_features = [(extract_features(text),intent) for (text,intent) in training_data]\n",
        "classifier = NaiveBayesClassifier.train(training_features)\n",
        "print (\"Classifier Accuracy\", accuracy(classifier, training_features))"
      ],
      "metadata": {
        "colab": {
          "base_uri": "https://localhost:8080/"
        },
        "id": "hm72ro0YqcNh",
        "outputId": "6b2fef49-8487-407b-c400-e8736c60205d"
      },
      "execution_count": 10,
      "outputs": [
        {
          "output_type": "stream",
          "name": "stdout",
          "text": [
            "Classifier Accuracy 1.0\n"
          ]
        }
      ]
    },
    {
      "cell_type": "code",
      "source": [
        "def get_bot_response(user_input):\n",
        "  print('coming')\n",
        "\n",
        "  features=extract_features(user_input)\n",
        "  intent = classifier.classify(features)\n",
        "  return responses.get(intent)"
      ],
      "metadata": {
        "id": "ecKwZASAqcCC"
      },
      "execution_count": 11,
      "outputs": []
    },
    {
      "cell_type": "code",
      "source": [
        "while True:\n",
        "\n",
        "  user_input = input(\"You : \")\n",
        "  if user_input.lower() == 'exit':\n",
        "    break\n",
        "  bot_response = get_bot_response(user_input)\n",
        "  print(\"Bots : \", bot_response)"
      ],
      "metadata": {
        "colab": {
          "base_uri": "https://localhost:8080/"
        },
        "id": "4dDC9vX-qbrQ",
        "outputId": "1dac6c3b-9bcc-4c66-e445-e68e062bf399"
      },
      "execution_count": 14,
      "outputs": [
        {
          "name": "stdout",
          "output_type": "stream",
          "text": [
            "You : hi\n",
            "coming\n",
            "Bots :  ['Aiye tashreef laiye', 'Tum phir agaye']\n",
            "You : salam\n",
            "coming\n",
            "Bots :  ['Aiye tashreef laiye', 'Tum phir agaye']\n",
            "You : tata\n",
            "coming\n",
            "Bots :  ['shakal mat dikhaiye']\n",
            "You : hello\n",
            "coming\n",
            "Bots :  ['Aiye tashreef laiye', 'Tum phir agaye']\n",
            "You : helo\n",
            "coming\n",
            "Bots :  ['Aiye tashreef laiye', 'Tum phir agaye']\n",
            "You : bye\n",
            "coming\n",
            "Bots :  ['shakal mat dikhaiye']\n",
            "You : exit\n"
          ]
        }
      ]
    }
  ]
}