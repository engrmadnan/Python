{
  "nbformat": 4,
  "nbformat_minor": 0,
  "metadata": {
    "colab": {
      "provenance": [],
      "authorship_tag": "ABX9TyNrW8bQKzG0O/VTgtZZAnzA",
      "include_colab_link": true
    },
    "kernelspec": {
      "name": "python3",
      "display_name": "Python 3"
    },
    "language_info": {
      "name": "python"
    }
  },
  "cells": [
    {
      "cell_type": "markdown",
      "metadata": {
        "id": "view-in-github",
        "colab_type": "text"
      },
      "source": [
        "<a href=\"https://colab.research.google.com/github/engrmadnan/Python/blob/main/chatbot3.ipynb\" target=\"_parent\"><img src=\"https://colab.research.google.com/assets/colab-badge.svg\" alt=\"Open In Colab\"/></a>"
      ]
    },
    {
      "cell_type": "code",
      "execution_count": null,
      "metadata": {
        "colab": {
          "base_uri": "https://localhost:8080/"
        },
        "id": "6IewvQLDpJ-x",
        "outputId": "65072f40-42be-4811-c900-d9fded87bafc"
      },
      "outputs": [
        {
          "output_type": "stream",
          "name": "stderr",
          "text": [
            "[nltk_data] Downloading package punkt to /root/nltk_data...\n",
            "[nltk_data]   Package punkt is already up-to-date!\n"
          ]
        },
        {
          "output_type": "execute_result",
          "data": {
            "text/plain": [
              "True"
            ]
          },
          "metadata": {},
          "execution_count": 37
        }
      ],
      "source": [
        "import nltk\n",
        "nltk.download('punkt')"
      ]
    },
    {
      "cell_type": "code",
      "source": [
        "from nltk.tokenize import word_tokenize\n",
        "text=\"tata\""
      ],
      "metadata": {
        "id": "oRS69xAupZdM"
      },
      "execution_count": null,
      "outputs": []
    },
    {
      "cell_type": "code",
      "source": [
        "tokens=word_tokenize(text)"
      ],
      "metadata": {
        "id": "zxOpQObhqZ5N"
      },
      "execution_count": null,
      "outputs": []
    },
    {
      "cell_type": "code",
      "source": [
        "intents = {\n",
        "    'greeting':['salam', 'hello', 'hey', 'goodmorning', 'oe', 'bhai', 'bhaya'],\n",
        "    'goodbye':['bye', 'tata', 'goodbye', 'seeyou'],\n",
        "    'question': ['kuch puchna', 'i want to ask','question']\n",
        "}\n",
        "\n",
        "responses = {\n",
        "    'greeting' : ['Aiye tashreef laiye','Tum phir agaye'],\n",
        "    'goodbye' : ['shakal mat dikhaiye'],\n",
        "    'question': ['ji puchiye', 'you may ask anything', 'you may ask question']\n",
        "}"
      ],
      "metadata": {
        "id": "xypLAyQNqcqN"
      },
      "execution_count": null,
      "outputs": []
    },
    {
      "cell_type": "code",
      "source": [],
      "metadata": {
        "id": "zWZo7peWsa7J"
      },
      "execution_count": null,
      "outputs": []
    },
    {
      "cell_type": "markdown",
      "source": [
        "***Building the training dataset***"
      ],
      "metadata": {
        "id": "2Fc3e4lb7172"
      }
    },
    {
      "cell_type": "code",
      "source": [
        "#training_data = []\n",
        "with open('chatbot.txt','w') as file:\n",
        "\n",
        "  for intent, examples in intents.items():\n",
        "    for example in examples:\n",
        "      file.write(f'intent : {intent}\\n')\n",
        "      file.write(f'response : {responses[intent]}\\n')\n",
        "\n",
        "    #training_data.append((example,intent))"
      ],
      "metadata": {
        "id": "aTBi-goeqcam"
      },
      "execution_count": null,
      "outputs": []
    },
    {
      "cell_type": "code",
      "source": [
        "from nltk.classify import NaiveBayesClassifier\n",
        "from nltk.classify import accuracy\n",
        "\n",
        "def extract_features(text):\n",
        "  input_tokens = word_tokenize(text.lower())\n",
        "  return {word: word in input_tokens for word in input_tokens}\n",
        "\n",
        "training_features = [(extract_features(text),intent) for (text,intent) in training_data]\n",
        "classifier = NaiveBayesClassifier.train(training_features)\n",
        "print (\"Classifier Accuracy\", accuracy(classifier, training_features))"
      ],
      "metadata": {
        "colab": {
          "base_uri": "https://localhost:8080/"
        },
        "id": "hm72ro0YqcNh",
        "outputId": "faafad8a-c332-40f6-bcd5-bf03f42f798f"
      },
      "execution_count": null,
      "outputs": [
        {
          "output_type": "stream",
          "name": "stdout",
          "text": [
            "Classifier Accuracy 1.0\n"
          ]
        }
      ]
    },
    {
      "cell_type": "code",
      "source": [
        "import random\n",
        "def get_bot_response(user_input):\n",
        "  #print('coming')\n",
        "\n",
        "  features=extract_features(user_input)\n",
        "  intent = classifier.classify(features)\n",
        "  possible_respose = responses.get(intent,['nahi smjha ma'])\n",
        "  return random.choice(possible_respose)\n",
        "\n",
        " # return responses.get(intent)"
      ],
      "metadata": {
        "id": "ecKwZASAqcCC"
      },
      "execution_count": null,
      "outputs": []
    },
    {
      "cell_type": "code",
      "source": [
        "while True:\n",
        "  user_input = input(\"You : \")\n",
        "  if user_input.lower() == 'exit':\n",
        "    break\n",
        "  bot_response = get_bot_response(user_input)\n",
        "  print(\"Bots : \", bot_response)"
      ],
      "metadata": {
        "colab": {
          "base_uri": "https://localhost:8080/"
        },
        "id": "4dDC9vX-qbrQ",
        "outputId": "7cde7aa8-ab02-4fc8-f275-d6d46f0d72f0"
      },
      "execution_count": null,
      "outputs": [
        {
          "name": "stdout",
          "output_type": "stream",
          "text": [
            "You : hi\n",
            "Bots :  Tum phir agaye\n",
            "You : hi\n",
            "Bots :  Aiye tashreef laiye\n",
            "You : hi\n",
            "Bots :  Tum phir agaye\n",
            "You : salam\n",
            "Bots :  Aiye tashreef laiye\n",
            "You : question\n",
            "Bots :  ji puchiye\n",
            "You : question\n",
            "Bots :  you may ask question\n",
            "You : exit\n"
          ]
        }
      ]
    }
  ]
}