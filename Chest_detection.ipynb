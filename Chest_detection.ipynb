{
  "nbformat": 4,
  "nbformat_minor": 0,
  "metadata": {
    "colab": {
      "provenance": [],
      "authorship_tag": "ABX9TyNxmJcJui4X7QstQmAVQOuU",
      "include_colab_link": true
    },
    "kernelspec": {
      "name": "python3",
      "display_name": "Python 3"
    },
    "language_info": {
      "name": "python"
    }
  },
  "cells": [
    {
      "cell_type": "markdown",
      "metadata": {
        "id": "view-in-github",
        "colab_type": "text"
      },
      "source": [
        "<a href=\"https://colab.research.google.com/github/engrmadnan/Python/blob/main/Chest_detection.ipynb\" target=\"_parent\"><img src=\"https://colab.research.google.com/assets/colab-badge.svg\" alt=\"Open In Colab\"/></a>"
      ]
    },
    {
      "cell_type": "code",
      "execution_count": 1,
      "metadata": {
        "colab": {
          "base_uri": "https://localhost:8080/"
        },
        "id": "qUG4paF7H5mH",
        "outputId": "c0e924c2-9410-4205-8940-45af673da5c1"
      },
      "outputs": [
        {
          "output_type": "stream",
          "name": "stdout",
          "text": [
            "Requirement already satisfied: opencv-python in /usr/local/lib/python3.10/dist-packages (4.8.0.76)\n",
            "Requirement already satisfied: numpy>=1.21.2 in /usr/local/lib/python3.10/dist-packages (from opencv-python) (1.25.2)\n"
          ]
        }
      ],
      "source": [
        "pip install opencv-python\n",
        "\n"
      ]
    },
    {
      "cell_type": "code",
      "source": [
        "from keras.models import load_model\n",
        "from PIL import Image,ImageOps\n",
        "import numpy as np\n",
        "\n",
        "np.set_printoptions (suppress=True)\n",
        "model=load_model (\"keras_model.h5\", compile=False)\n",
        "\n",
        "class_names=open(\"labels.txt\",\"r\").readlines()\n",
        "data=np.ndarray(shape=(1,224,224,3),dtype=np.float32)\n",
        "image=Image.open(\"Bacterial_Testing.jpeg\").convert(\"RGB\")\n",
        "size=(224,224)\n",
        "image= ImageOps.fit(image,size,Image.Resampling.LANCZOS)\n",
        "image_array=np.asarray(image)\n",
        "normalized_image_array = (image_array.astype(np.float32) / 127.5) - 1\n",
        "data[0] = normalized_image_array\n",
        "\n",
        "# Predict the model\n",
        "prediction = model.predict(data)\n",
        "\n",
        "# Display all the data\n",
        "print(\"Prediction Array:\")\n",
        "print(prediction)\n",
        "\n",
        "# Find the index with the highest confidence\n",
        "index = np.argmax(prediction)\n",
        "class_name = class_names[index]\n",
        "confidence_score = prediction[0][index]\n",
        "\n",
        "# Print prediction and confidence score\n",
        "print(\"Class:\", class_name[2:])\n",
        "print(\"Confidence Score:\", confidence_score)\n"
      ],
      "metadata": {
        "colab": {
          "base_uri": "https://localhost:8080/"
        },
        "id": "2EhemmAtIZeb",
        "outputId": "1dbf552d-6d02-4719-ec8f-7fbf2dafa5ee"
      },
      "execution_count": 10,
      "outputs": [
        {
          "output_type": "stream",
          "name": "stdout",
          "text": [
            "1/1 [==============================] - 1s 915ms/step\n",
            "Prediction Array:\n",
            "[[0.8991265  0.00144207 0.01638685 0.08304454]]\n",
            "Class: Bacterial Pneumonia\n",
            "\n",
            "Confidence Score: 0.8991265\n"
          ]
        }
      ]
    }
  ]
}